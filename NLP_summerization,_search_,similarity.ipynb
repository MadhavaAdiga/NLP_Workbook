{
  "cells": [
    {
      "cell_type": "markdown",
      "metadata": {
        "id": "n_G5LGCJIFXI"
      },
      "source": [
        "# Natural Language Processing: summarization, search, representation, and similarity"
      ]
    },
    {
      "cell_type": "code",
      "execution_count": null,
      "metadata": {
        "id": "pttAB3D2H8Bs"
      },
      "outputs": [],
      "source": [
        "!pip install spacy"
      ]
    },
    {
      "cell_type": "code",
      "execution_count": null,
      "metadata": {
        "id": "sPGCRkoDJi1f"
      },
      "outputs": [],
      "source": [
        "import spacy\n",
        "spacy.__version__"
      ]
    },
    {
      "cell_type": "code",
      "execution_count": null,
      "metadata": {
        "id": "vNQiM6q-JtBy"
      },
      "outputs": [],
      "source": [
        "!python -m spacy download en_core_web_sm"
      ]
    },
    {
      "cell_type": "code",
      "execution_count": null,
      "metadata": {
        "id": "0Vbv6xWoJ_cx"
      },
      "outputs": [],
      "source": [
        "# used for webscraping\n",
        "!pip install goose3"
      ]
    },
    {
      "cell_type": "code",
      "execution_count": null,
      "metadata": {
        "id": "oSztxckdWX2k"
      },
      "outputs": [],
      "source": [
        "# sumariztion lib\n",
        "!pip install sumy"
      ]
    },
    {
      "cell_type": "markdown",
      "metadata": {
        "id": "BWFftrIjJ5H0"
      },
      "source": [
        "## Imports"
      ]
    },
    {
      "cell_type": "code",
      "execution_count": null,
      "metadata": {
        "colab": {
          "base_uri": "https://localhost:8080/"
        },
        "id": "foZM0Ct4J2D1",
        "outputId": "0b2d8212-66fe-496e-80e5-860728961904"
      },
      "outputs": [],
      "source": [
        "import en_core_web_sm\n",
        "import nltk\n",
        "import matplotlib.pyplot as plt\n",
        "\n",
        "from spacy.matcher import PhraseMatcher\n",
        "\n",
        "from spacy import displacy\n",
        "from goose3 import Goose\n",
        "from wordcloud import WordCloud\n",
        "\n",
        "from IPython.core.display import HTML\n",
        "\n",
        "from sumy.parsers.plaintext import PlaintextParser\n",
        "from sumy.nlp.tokenizers import Tokenizer\n",
        "from sumy.summarizers.sum_basic import SumBasicSummarizer\n",
        "\n",
        "# ML lib\n",
        "from sklearn.feature_extraction.text import CountVectorizer\n",
        "\n",
        "# using nltk\n",
        "nltk.download('punkt')\n",
        "\n",
        "nlp = spacy.load('en_core_web_sm')\n",
        "# goose3 helps in extract text from websites\n",
        "g = Goose()"
      ]
    },
    {
      "cell_type": "markdown",
      "metadata": {
        "id": "FZhSEpkGINlD"
      },
      "source": [
        "## Loading texts from the Internet"
      ]
    },
    {
      "cell_type": "code",
      "execution_count": null,
      "metadata": {
        "id": "_HV75V08KdRp"
      },
      "outputs": [],
      "source": [
        "url = 'https://en.wikipedia.org/wiki/Natural_language_processing'\n",
        "# get data from url\n",
        "article = g.extract(url)"
      ]
    },
    {
      "cell_type": "code",
      "execution_count": null,
      "metadata": {
        "id": "3rnNTA4gKgcW"
      },
      "outputs": [],
      "source": [
        "article.title"
      ]
    },
    {
      "cell_type": "code",
      "execution_count": null,
      "metadata": {
        "id": "ie_gXpUoKl3c"
      },
      "outputs": [],
      "source": [
        "# gets cleand text from site removing all css\n",
        "article.cleaned_text"
      ]
    },
    {
      "cell_type": "code",
      "execution_count": null,
      "metadata": {
        "id": "xNLNniR_KoYI"
      },
      "outputs": [],
      "source": [
        "article.authors"
      ]
    },
    {
      "cell_type": "code",
      "execution_count": null,
      "metadata": {
        "id": "UKrn3hflK1v0"
      },
      "outputs": [],
      "source": [
        "# get all links in the site\n",
        "article.links"
      ]
    },
    {
      "cell_type": "markdown",
      "metadata": {
        "id": "yo4oni2BK_gi"
      },
      "source": [
        "# Named entity recognition\n",
        "\n",
        "Tags: https://ashutoshtripathi.com/2020/04/13/parts-of-speech-tagging-and-dependency-parsing-using-spacy-nlp/"
      ]
    },
    {
      "cell_type": "code",
      "execution_count": null,
      "metadata": {
        "id": "MUMl7LXCLKZo"
      },
      "outputs": [],
      "source": [
        "document = nlp(article.cleaned_text)\n",
        "\n",
        "for token in document:\n",
        "  print(token.text,'-',token.pos_)"
      ]
    },
    {
      "cell_type": "code",
      "execution_count": null,
      "metadata": {
        "id": "15Oh5WrBLh04"
      },
      "outputs": [],
      "source": [
        "displacy.render(document, style = 'ent', jupyter=True)"
      ]
    },
    {
      "cell_type": "code",
      "execution_count": null,
      "metadata": {
        "id": "hmBeo5d6Lxae"
      },
      "outputs": [],
      "source": [
        "for entity in document.ents:\n",
        "  if entity.label_ == 'PERSON':\n",
        "    print(entity.text)"
      ]
    },
    {
      "cell_type": "markdown",
      "metadata": {
        "id": "iKX_jefqMFRy"
      },
      "source": [
        "## Most frequent words"
      ]
    },
    {
      "cell_type": "code",
      "execution_count": null,
      "metadata": {
        "id": "Qr9g2PSFM802"
      },
      "outputs": [],
      "source": [
        "# using nltk\n",
        "tokens = nltk.tokenize.word_tokenize(article.cleaned_text)\n"
      ]
    },
    {
      "cell_type": "code",
      "execution_count": null,
      "metadata": {
        "id": "n9LUrXvPNPXn"
      },
      "outputs": [],
      "source": [
        "# tokens\n",
        "len(tokens)"
      ]
    },
    {
      "cell_type": "code",
      "execution_count": null,
      "metadata": {
        "id": "K58CM0qKNQmp"
      },
      "outputs": [],
      "source": [
        "frequncy = nltk.FreqDist(tokens)\n",
        "\n",
        "# get top 10 most frequent token\n",
        "most_common = frequncy.most_common(50)\n",
        "\n",
        "most_common"
      ]
    },
    {
      "cell_type": "markdown",
      "metadata": {
        "id": "Rzx1sB7oN7Uq"
      },
      "source": [
        "# Word cloud"
      ]
    },
    {
      "cell_type": "code",
      "execution_count": null,
      "metadata": {
        "id": "Fml7BzE-N8C1"
      },
      "outputs": [],
      "source": [
        "from wordcloud import WordCloud\n",
        "import matplotlib.pyplot as plt\n",
        "\n",
        "cloud = WordCloud()\n",
        "cloud = cloud.generate(article.cleaned_text)\n",
        "\n",
        "plt.figure(figsize=(15,15))\n",
        "plt.axis('off')\n",
        "plt.imshow(cloud);"
      ]
    },
    {
      "cell_type": "markdown",
      "metadata": {
        "id": "WHWWKr8TRppz"
      },
      "source": [
        "# Preprocessing the texts (frequency and word cloud)"
      ]
    },
    {
      "cell_type": "code",
      "execution_count": null,
      "metadata": {
        "id": "SAFn7At5RoaG"
      },
      "outputs": [],
      "source": [
        "def preprocess(s: str) -> list:\n",
        "  s = s.lower()\n",
        "  s = s.replace('.', '')\n",
        "  s = s.replace('[', '')\n",
        "  s = s.replace(']', '')\n",
        "  tokens = []\n",
        "\n",
        "  # remove stop words, puntuations, space, numbers\n",
        "  for token in nlp(s):\n",
        "    if not (token.is_stop or token.like_num or token.is_punct or token.is_space or len(token) == 1):\n",
        "      tokens.append(token.text)\n",
        "\n",
        "  tokens = ' '.join([element for element in tokens])\n",
        "\n",
        "  return tokens"
      ]
    },
    {
      "cell_type": "code",
      "execution_count": null,
      "metadata": {
        "id": "zCcfSd1kSUGR"
      },
      "outputs": [],
      "source": [
        "preprocess('TesT NlP it the process 1 1213 ! . ,      d ')"
      ]
    },
    {
      "cell_type": "code",
      "execution_count": null,
      "metadata": {
        "id": "Bku4BhViUVuS"
      },
      "outputs": [],
      "source": [
        "article_cleaned = preprocess(article.cleaned_text)\n",
        "# article_cleaned\n",
        "\n",
        "len(article.cleaned_text),len(article_cleaned)\n",
        "\n",
        "# tokenize and get most frequent words\n",
        "tokens = nltk.tokenize.word_tokenize(article_cleaned)\n",
        "frequncy = nltk.FreqDist(tokens)\n",
        "\n",
        "# get top 10 most frequent token\n",
        "most_common = frequncy.most_common(50)\n",
        "\n",
        "most_common"
      ]
    },
    {
      "cell_type": "code",
      "execution_count": null,
      "metadata": {
        "id": "Bus0Fz9DU14u"
      },
      "outputs": [],
      "source": [
        "cloud = WordCloud()\n",
        "cloud = cloud.generate(article_cleaned)\n",
        "\n",
        "plt.figure(figsize=(15,15))\n",
        "plt.axis('off')\n",
        "plt.imshow(cloud);"
      ]
    },
    {
      "cell_type": "markdown",
      "metadata": {
        "id": "QCdxDFlQV6Cs"
      },
      "source": [
        "# Text summarization\n",
        "\n",
        "- sumy library: https://pypi.org/project/sumy/\n",
        "\n",
        "Steps to follow -\n",
        "* **Preprocessing of text**-\n",
        "  remove stop words, puntuations, space, numbers\n",
        "\n",
        "* **Calculate Word frequency** -\n",
        "  get frequency of each word in preprocessed text\n",
        "\n",
        "* **Define Weight for word frequency** -\n",
        "  calculate the weight for each word\n",
        "  \n",
        "  Weight formule :\n",
        "  ```\n",
        "  number of times word appear / highest frequency value\n",
        "\n",
        "  or\n",
        "\n",
        "  current frecuency / highest frequency\n",
        "```\n",
        "* **Sentence tokenization** -\n",
        "  convert the original paragraph in multiple sentences(based on .),\n",
        "  NOTE - stop words are not considered\n",
        "\n",
        "* **Score for the sentence** -\n",
        "  use calculate weight for words and add them based on their appearence in the sentence\n",
        "\n",
        "* **Order the sentence** -\n",
        "  * order the sentences based on the score calculated,\n",
        "  * for this we also need to define how many sentences to be selected.\n",
        "  * larger the paragraph we need to select more sentences\n",
        "\n",
        "* **Generate Summary**\n"
      ]
    },
    {
      "cell_type": "code",
      "execution_count": null,
      "metadata": {
        "id": "ZXOrW-1hbgPf"
      },
      "outputs": [],
      "source": [
        "url = 'https://en.wikipedia.org/wiki/Natural_language_processing'\n",
        "# get data from url\n",
        "article = g.extract(url)"
      ]
    },
    {
      "cell_type": "code",
      "execution_count": null,
      "metadata": {
        "id": "3eiWzFdKehbU"
      },
      "outputs": [],
      "source": [
        "article.cleaned_text"
      ]
    },
    {
      "cell_type": "code",
      "execution_count": null,
      "metadata": {
        "id": "5rDnhsxLe0YM"
      },
      "outputs": [],
      "source": [
        "# use nltk to tokenize sentences in article\n",
        "original_sentences: list = []\n",
        "\n",
        "for sentence in nltk.sent_tokenize(article.cleaned_text):\n",
        "  original_sentences.append(sentence)"
      ]
    },
    {
      "cell_type": "code",
      "execution_count": null,
      "metadata": {
        "id": "E0h04mDwfgi7"
      },
      "outputs": [],
      "source": [
        "# use summy to calculate high score for sentence\n",
        "from sumy.parsers.plaintext import PlaintextParser\n",
        "from sumy.nlp.tokenizers import Tokenizer\n",
        "from sumy.summarizers.sum_basic import SumBasicSummarizer\n",
        "\n",
        "from IPython.core.display import HTML\n",
        "\n",
        "# create parser\n",
        "parser = PlaintextParser.from_string(article.cleaned_text, Tokenizer('english'))\n",
        "# get summerizer basic\n",
        "summarizer = SumBasicSummarizer()\n",
        "# create summary with 40% of best sentences\n",
        "summary_size = (len(original_sentences)/10) * 5\n",
        "summary = summarizer(parser.document, summary_size)\n",
        "\n",
        "best_sentences: list = []\n",
        "for sentence in summary:\n",
        "  best_sentences.append(str(sentence))"
      ]
    },
    {
      "cell_type": "code",
      "execution_count": null,
      "metadata": {
        "id": "7xb2oUVah2P2"
      },
      "outputs": [],
      "source": [
        "from IPython.core.display import HTML\n",
        "text = ''\n",
        "display(HTML(f'<h2>Summary - {article.title}</h2>'))\n",
        "\n",
        "for sentence in original_sentences:\n",
        "  #print(sentence)\n",
        "  if sentence in best_sentences:\n",
        "    text += ' ' + str(sentence).replace(sentence, f\"<mark>{sentence}</mark>\")\n",
        "  else:\n",
        "    text += ' ' + sentence\n",
        "display(HTML(f\"\"\"{text}\"\"\"))"
      ]
    },
    {
      "cell_type": "markdown",
      "metadata": {
        "id": "NWZmokYdjVEC"
      },
      "source": [
        "# Key word search\n"
      ]
    },
    {
      "cell_type": "code",
      "execution_count": null,
      "metadata": {
        "id": "fslI8yDKjYcZ"
      },
      "outputs": [],
      "source": [
        "string = 'Natural language processing (NLP) is a subfield of linguistics, computer science, and artificial intelligence concerned with the interactions between computers and human language, in particular how to program computers to process and analyze large amounts of natural language data.'"
      ]
    },
    {
      "cell_type": "code",
      "execution_count": null,
      "metadata": {
        "id": "4vmwMn-dmRqv"
      },
      "outputs": [],
      "source": [
        "from spacy.matcher import PhraseMatcher\n",
        "\n",
        "# create a search token list\n",
        "search_string = ['artificial', 'computer']\n",
        "token_list: list = []\n",
        "\n",
        "for item in search_string:\n",
        "  token_list.append(nlp(item))"
      ]
    },
    {
      "cell_type": "markdown",
      "metadata": {
        "id": "pNEsFKJJmUhM"
      },
      "source": [
        "## Basic word search"
      ]
    },
    {
      "cell_type": "code",
      "execution_count": null,
      "metadata": {
        "colab": {
          "base_uri": "https://localhost:8080/"
        },
        "id": "51UzFtpTjoL-",
        "outputId": "43a0becf-253c-4e49-8a7f-e15f21c23d95"
      },
      "outputs": [],
      "source": [
        "# create spacy matcher\n",
        "matcher = PhraseMatcher(nlp.vocab)\n",
        "\n",
        "matcher.add('SEARCH', None, *token_list)\n",
        "\n",
        "document = nlp(string)\n",
        "matches = matcher(document)\n",
        "\n",
        "matches"
      ]
    },
    {
      "cell_type": "code",
      "execution_count": null,
      "metadata": {
        "id": "JoIb1VFJk-xm"
      },
      "outputs": [],
      "source": [
        "document[12:13], document[16:17]"
      ]
    },
    {
      "cell_type": "code",
      "execution_count": null,
      "metadata": {
        "id": "1XBB2-dqlA-J"
      },
      "outputs": [],
      "source": [
        "# 5 words before computer and 5 words after computer\n",
        "document[12-5:13+5]"
      ]
    },
    {
      "cell_type": "code",
      "execution_count": null,
      "metadata": {
        "id": "9XG88K2zlCyb"
      },
      "outputs": [],
      "source": [
        "# 5 words before artificial and 5 words after artificial\n",
        "document[16-5:17+5]"
      ]
    },
    {
      "cell_type": "markdown",
      "metadata": {
        "id": "1oqnLK6BmXMF"
      },
      "source": [
        "## Word search in Wikipedia document"
      ]
    },
    {
      "cell_type": "code",
      "execution_count": null,
      "metadata": {
        "id": "_gRWN-pQlV3G"
      },
      "outputs": [],
      "source": [
        "from IPython.core.display import HTML\n",
        "\n",
        "# search words in document\n",
        "number_of_words = 50\n",
        "search_string_html = ' '.join([element for element in search_string])\n",
        "# search_string_html\n",
        "\n",
        "marked_text = ''\n",
        "display(HTML(f'<h1>{search_string_html.upper()}'))\n",
        "\n",
        "document = nlp(article.cleaned_text)\n",
        "matches = matcher(document)\n",
        "\n",
        "display(HTML(f\"\"\"<p><strong>Number of matches: </strong>{len(matches)}</p>\"\"\"))\n",
        "\n",
        "for i in matches:\n",
        "  # print(i)\n",
        "  start = i[1]-number_of_words\n",
        "  #  negative index check\n",
        "  if start < 0 :\n",
        "    start = 0\n",
        "\n",
        "  for j in range(len(token_list)):\n",
        "    # print(j, token_list[j])\n",
        "    #  i is index extracted from matcher\n",
        "    if document[i[1]:i[2]].similarity(token_list[j]) == 1.0:\n",
        "      search_text = str(token_list[j])\n",
        "      marked_text += str(document[start:i[2] + number_of_words]).replace(search_text, f\"<mark>{search_text}</mark>\")\n",
        "      marked_text += \"<br /><br />\"\n",
        "\n",
        "display(HTML(f\"\"\"<blockquote>{marked_text}</blockquote>\"\"\"))\n"
      ]
    },
    {
      "cell_type": "markdown",
      "metadata": {
        "id": "P1jsJfeXknS_"
      },
      "source": [
        "# Models for text representation\n",
        "Here we conver text to numerical representation for computers to understand.\n",
        "\n",
        "For complex chat bot, sentiment analysis, searching for similar document we need to convert words into numbers.\n",
        "\n",
        "* Bag Of Words\n",
        "* TF - IDF\n",
        "\n",
        "[Difference between BOG and TF-IDF](https://mayurji.github.io/blog/2021/09/20/Tf-Idf#:~:text=Unlike%2C%20bag%2Dof%2Dwords,documents%20this%20word%20appears%20in.&text=N%20is%20the%20total%20number,known%20as%20inverse%20document%20frequency.)"
      ]
    },
    {
      "cell_type": "markdown",
      "metadata": {
        "id": "0bLFcNy7jRmZ"
      },
      "source": [
        "# Bag of words\n",
        "A simple way to represent sentences/words.\n",
        "In NLP we need to represent words in a numerical way as computer and algorithum understands numbers\n",
        "\n",
        "For complex chat bot, sentiment analysis, searching for similar document we need to convert words into numbers."
      ]
    },
    {
      "cell_type": "markdown",
      "metadata": {
        "id": "_dTu76h_k3zv"
      },
      "source": [
        "\n",
        "consider example sentences -\n",
        "1. This is the first document\n",
        "2. this document is the second document\n",
        "3. And this is third one\n",
        "4. Is this the first document?\n",
        "\n",
        "| Sentence# | and | document | first | is | one | second | the | third | these |\n",
        "|----|-----|----------|-------|----|-----|--------|-----|-------|------|\n",
        "| 1 | 0 | 1 | 1 | 1 | 0 | 0 | 1 | 0 | 1 |\n",
        "| 2 | 0 | 2 | 0 | 1 | 0 | 1 | 1 | 0 | 1 |\n",
        "| 3 | 1 | 0 | 0 | 1 | 1 | 0 | 1 | 1 | 1 |\n",
        "| 4 | 0 | 1 | 1 | 1 | 0 | 0 | 1 | 0 | 1 |\n",
        "\n",
        "- identify unique words in each sentences\n",
        "- fill the table with the frequency in sentences\n",
        "- now this is simple to represent the bag of word format which is a 2D matrix\n"
      ]
    },
    {
      "cell_type": "markdown",
      "metadata": {
        "id": "IVLh8p8KfqaR"
      },
      "source": [
        "## Drawback of bag of words represntation\n",
        "* We only count number of times the unique words appear in a single sentences.\n",
        "* This representation is not very good as frequent words dont innate the document and may not represent much information about the context.\n",
        "\n",
        "Example a single word may appear 100 times and other may appear less often.\n",
        "* Higher weight is given to the word that appear most often.\n",
        "* Less weight is given to word that appear less often.\n",
        "* Other problem is longer sentences will have greater weight than shorter sentences."
      ]
    },
    {
      "cell_type": "code",
      "execution_count": null,
      "metadata": {
        "id": "nrLwiYfpjSRO"
      },
      "outputs": [],
      "source": [
        "# ML lib\n",
        "from sklearn.feature_extraction.text import CountVectorizer\n",
        "import matplotlib.pyplot as plt\n",
        "\n",
        "sentences = ['This is the first document.',\n",
        "             'This document is the second document.',\n",
        "             'And this is the third one.',\n",
        "             'Is this the first document?']\n",
        "\n",
        "# create vecotrizer\n",
        "vectorizer = CountVectorizer()\n",
        "x = vectorizer.fit_transform(sentences)\n",
        "\n",
        "# represent in table\n",
        "header = vectorizer.get_feature_names_out()\n",
        "\n",
        "ax = plt.gca()\n",
        "ax.get_xaxis().set_visible(False)\n",
        "ax.get_yaxis().set_visible(False)\n",
        "\n",
        "plt.box(on=None)\n",
        "the_table = plt.table(colLabels=header,cellText=x.toarray(),loc='center');\n",
        "the_table.scale(2, 2.5)"
      ]
    },
    {
      "cell_type": "markdown",
      "metadata": {
        "id": "wSWD6Rk6qEir"
      },
      "source": [
        "## Vectorize Wikipedia document"
      ]
    },
    {
      "cell_type": "code",
      "execution_count": null,
      "metadata": {
        "id": "40BAR4fcoIOL"
      },
      "outputs": [],
      "source": [
        "# ML lib\n",
        "from sklearn.feature_extraction.text import CountVectorizer\n",
        "\n",
        "url = 'https://en.wikipedia.org/wiki/Natural_language_processing'\n",
        "# get data from url\n",
        "article = g.extract(url)\n",
        "\n",
        "# use nltk to tokenize sentences in article\n",
        "original_sentences: list = []\n",
        "\n",
        "for sentence in nltk.sent_tokenize(article.cleaned_text):\n",
        "  original_sentences.append(sentence)\n",
        "\n",
        "# vectorize wiki\n",
        "vectorizer = CountVectorizer()\n",
        "x_sentences = vectorizer.fit_transform(original_sentences)\n",
        "\n",
        "print(vectorizer.get_feature_names_out())\n",
        "\n",
        "print(x.toarray())"
      ]
    },
    {
      "cell_type": "markdown",
      "metadata": {
        "id": "vAQ8-Fb0snkv"
      },
      "source": [
        "# TF-IDF (Time Frequency - Inverse Document Frequency)\n",
        "\n",
        "* Created to overcome the limitations of Bag of words algorithm.\n",
        "* It considers the frequency of words appearing in all sentences of document, where as in bag of words frequecy is consodered only for one sentence.\n",
        "\n",
        "* Calculating TF is also called as Normalization, where all terms are considered as equally important.\n",
        "* In IDF we increase weight of less frequent words and decrease weight of most frequent words.\n",
        "\n",
        "TF Formule -\n",
        "```\n",
        "TF = Number of timers term T appears in document / total number of terms in document\n",
        "```\n",
        "IDF Formule -\n",
        "```\n",
        "IDF = 1 + log(Total number of document / number of documents term T appeared)\n",
        "```\n",
        "Calcuate TF-IDF -\n",
        "```\n",
        "  TF * IDF\n",
        "```\n",
        "\n",
        "<br>\n",
        "\n",
        "consider previous example sentences -\n",
        "1. This is the first document\n",
        "2. this document is the second document\n",
        "3. And this is third one\n",
        "4. Is this the first document ?"
      ]
    },
    {
      "cell_type": "markdown",
      "metadata": {
        "id": "Gh3JGw5EmaJB"
      },
      "source": [
        "## Calculate TF (Normalization)\n",
        "\n",
        "Steps -\n",
        "* create table similar to bag of words modeling\n",
        "* get number of tokens/terms in each sentences\n",
        "* use TF formule to fill the table of TF\n",
        "\n",
        "<br>\n",
        "\n",
        "**Bag of words representation** -\n",
        "\n",
        "| Sentence# | and | document | first | is | one | second | the | third | these |\n",
        "|----|-----|----------|-------|----|-----|--------|-----|-------|------|\n",
        "| 1 | - | 1 | 1 | 1 | - | - | 1 | - | 1 |\n",
        "| 2 | - | 2 | - | 1 | - | 1 | 1 | - | 1 |\n",
        "| 3 | 1 | - | - | 1 | 1 | - | 1 | 1 | 1 |\n",
        "| 4 | - | 1 | 1 | 1 | - | - | 1 | - | 1 |\n",
        "\n",
        "**Number of token/ term in sentences** -\n",
        "\n",
        "Sentence 1 - 5 ,\n",
        "Sentence 2 - 6 ,\n",
        "Sentence 3 - 6 ,\n",
        "Sentence 4 - 5\n",
        "\n",
        "**Apply TF formule to table**\n",
        "```\n",
        "TF = Number of timers term T appears in document / total number of terms in document\n",
        "```\n",
        "| Sentence# | and | document | first | is | one | second | the | third | these |\n",
        "|----|-----|----------|-------|----|-----|--------|-----|-------|------|\n",
        "| 1 | - | 0.20 | 0.20 | 0.20 | - | - | 0.20 | - | 0.20 |\n",
        "| 2 | - | 0.33 | - | 0.16 | - | 0.16 | 0.16 | - | 0.16 |\n",
        "| 3 | 0.16 | - | - | 0.16 | 0.16 | - | 0.16 | 0.16 | 0.16 |\n",
        "| 4 | - | 0.20 | 0.20 | 0.20 | - | - | 0.20 | - | 0.20 |\n"
      ]
    },
    {
      "cell_type": "markdown",
      "metadata": {
        "id": "Ks5dIGHporTP"
      },
      "source": [
        "## Calculate IDF\n",
        "\n",
        "Steps -\n",
        "* Get total number of sentences in document.\n",
        "* Get the term T which we need to calculate.\n",
        "* Get the sentences in which term T appear.\n",
        "* apply formule -\n",
        "```\n",
        "IDF = 1 + log(Total number of document / number of documents term T appeared)\n",
        "```\n",
        "\n",
        "Example consider term document in the above sentences.\n",
        "* it appears in sentence #1, #2, #4\n",
        "* document appeares in each document appears total of 3 times,\n",
        "* **NOTE - even thought term document appeares 2 times in the 2 sentence, it will be treated a 1 time, as we are interested in total no of sentence the term appear and not how many times it appear in each sentence**\n",
        "* apply formule -\n",
        "```\n",
        "  IDF = 1 + log(4/3)\n",
        "  IDF = 1.28\n",
        "```"
      ]
    },
    {
      "cell_type": "markdown",
      "metadata": {
        "id": "QvqSxnBMrduJ"
      },
      "source": [
        "## Calculate TF-IDF value\n",
        "\n",
        "to calcuate TF-IDF -\n",
        "```\n",
        "  TF * IDF\n",
        "```\n",
        "\n",
        "Lets create table for only two terms for now, but in reality it needs to be done for all words\n",
        "\n",
        "| term | Sentence #1 | Sentence #2 | Sentence #3 | Sentence #4 |\n",
        "|------|-------------|-------------|-------------|-------------|\n",
        "| document| 0.20 x 1.28 = 0.25 | 0.33 x 1.28 = 0.42 | 0 | 0.20 x 1.28 = 0.25 |\n",
        "| first   | 0.20 x 1.69 = 0.33 | 0                  | 0 | 0.20 x 1.69 = 0.33 |"
      ]
    },
    {
      "cell_type": "code",
      "execution_count": null,
      "metadata": {
        "id": "UepJh82Ks2xq"
      },
      "outputs": [],
      "source": [
        "# ML lib\n",
        "from sklearn.feature_extraction.text import TfidfVectorizer\n",
        "import matplotlib.pyplot as plt\n",
        "\n",
        "sentences = ['This is the first document.',\n",
        "             'This document is the second document.',\n",
        "             'And this is the third one.',\n",
        "             'Is this the first document?']\n",
        "\n",
        "vectorizer = TfidfVectorizer()\n",
        "x = vectorizer.fit_transform(sentences)\n",
        "\n",
        "# vectorizer.idf_\n",
        "\n",
        "# represent in table\n",
        "header = vectorizer.get_feature_names_out()\n",
        "vectorizedValue = x.toarray()\n",
        "\n",
        "ax = plt.gca()\n",
        "ax.get_xaxis().set_visible(False)\n",
        "ax.get_yaxis().set_visible(False)\n",
        "\n",
        "plt.box(on=None)\n",
        "the_table = plt.table(colLabels=header,cellText=vectorizedValue,loc='center');\n",
        "the_table.scale(3, 3.5)"
      ]
    },
    {
      "cell_type": "markdown",
      "metadata": {
        "id": "68TxC7OxugFU"
      },
      "source": [
        "## Vectorize Wikipedia document"
      ]
    },
    {
      "cell_type": "code",
      "execution_count": null,
      "metadata": {
        "id": "BorIpAclufyq"
      },
      "outputs": [],
      "source": [
        "# ML lib\n",
        "from sklearn.feature_extraction.text import TfidfVectorizer\n",
        "\n",
        "url = 'https://en.wikipedia.org/wiki/Natural_language_processing'\n",
        "# get data from url\n",
        "article = g.extract(url)\n",
        "\n",
        "# use nltk to tokenize sentences in article\n",
        "original_sentences: list = []\n",
        "\n",
        "for sentence in nltk.sent_tokenize(article.cleaned_text):\n",
        "  original_sentences.append(sentence)\n",
        "\n",
        "vectorizer = TfidfVectorizer()\n",
        "# we need to preprocess text for better results\n",
        "x_sentences = vectorizer.fit_transform(original_sentences)\n",
        "\n",
        "print(vectorizer.get_feature_names_out())\n",
        "print(vectorizer.idf_)\n",
        "print(x_sentences.toarray())"
      ]
    },
    {
      "cell_type": "markdown",
      "metadata": {
        "id": "SkWDIjokvaD5"
      },
      "source": [
        "# Cosine similarity\n",
        "\n",
        "- Link: https://en.wikipedia.org/wiki/Cosine_similarity\n",
        "- Step by step calculation: https://janav.wordpress.com/2013/10/27/tf-idf-and-cosine-similarity/"
      ]
    },
    {
      "cell_type": "code",
      "execution_count": null,
      "metadata": {
        "colab": {
          "base_uri": "https://localhost:8080/"
        },
        "id": "hvsMYQFdwxrQ",
        "outputId": "bb8fdd08-66f5-49b2-aefa-925a721955ea"
      },
      "outputs": [],
      "source": [
        "# ML lib\n",
        "from sklearn.feature_extraction.text import TfidfVectorizer\n",
        "\n",
        "url = 'https://en.wikipedia.org/wiki/Natural_language_processing'\n",
        "# get data from url\n",
        "article = g.extract(url)\n",
        "\n",
        "# use nltk to tokenize sentences in article\n",
        "original_sentences: list = []\n",
        "\n",
        "for sentence in nltk.sent_tokenize(article.cleaned_text):\n",
        "  original_sentences.append(sentence)\n",
        "\n",
        "vectorizer = TfidfVectorizer()\n",
        "# we need to preprocess text for better results\n",
        "x_sentences = vectorizer.fit_transform(original_sentences)\n",
        "\n",
        "x_sentences.shape"
      ]
    },
    {
      "cell_type": "code",
      "execution_count": 28,
      "metadata": {
        "id": "Os2MNUbcw6C-"
      },
      "outputs": [],
      "source": [
        "import numpy as np\n",
        "\n",
        "#  get two sentence from wiki\n",
        "x_test_similarity = x_sentences[0:3]\n",
        "x_test_similarity: np.ndarray = x_test_similarity.toarray()\n",
        "\n",
        "# concatinate sentence 1 to end of array to have an extra copy\n",
        "x_test_similarity = np.concatenate((x_test_similarity,x_test_similarity[0].reshape(1,-1)), axis=0)\n",
        "\n",
        "print(x_test_similarity)\n",
        "print(x_test_similarity.shape)\n",
        "\n"
      ]
    },
    {
      "cell_type": "code",
      "execution_count": null,
      "metadata": {
        "id": "hJJYu9qdziRf"
      },
      "outputs": [],
      "source": [
        "# Similarity between Sentence 1 and 2\n",
        "from sklearn.metrics.pairwise import cosine_similarity\n",
        "\n",
        "# calculate similarity b/w sentence 1 and sentence 2\n",
        "# reshape to get matrix from vector\n",
        "s = cosine_similarity(x_test_similarity[0].reshape(1,-1), x_test_similarity[1].reshape(1,-1))\n",
        "\n",
        "print('similarity between sentences 1 and 2 \\n',original_sentences[0],'\\n',original_sentences[1])\n",
        "print('is equal to')\n",
        "print(s)"
      ]
    },
    {
      "cell_type": "code",
      "execution_count": null,
      "metadata": {
        "id": "SIulL8PDxZx5"
      },
      "outputs": [],
      "source": [
        "# Similarity between Sentence 2 and 3\n",
        "from sklearn.metrics.pairwise import cosine_similarity\n",
        "\n",
        "# calculate similarity b/w sentence 1 and sentence 2\n",
        "# reshape to get matrix from vector\n",
        "s = cosine_similarity(x_test_similarity[1].reshape(1,-1), x_test_similarity[2].reshape(1,-1))\n",
        "\n",
        "print('similarity between sentences 1 and 3 \\n',original_sentences[1],'\\n',original_sentences[2])\n",
        "print('is equal to')\n",
        "print(s)"
      ]
    },
    {
      "cell_type": "code",
      "execution_count": null,
      "metadata": {
        "id": "TG9uZ7muyUhY"
      },
      "outputs": [],
      "source": [
        "# Similarity between Sentence 1 and 4 (4 is same as 1)\n",
        "from sklearn.metrics.pairwise import cosine_similarity\n",
        "\n",
        "# calculate similarity b/w sentence 1 and sentence 2\n",
        "# reshape to get matrix from vector\n",
        "s = cosine_similarity(x_test_similarity[0].reshape(1,-1), x_test_similarity[3].reshape(1,-1))\n",
        "\n",
        "print('similarity between sentences 1 and 4 \\n {} \\n {}'.format(original_sentences[0],original_sentences[3]))\n",
        "print('is equal to')\n",
        "print(s)"
      ]
    },
    {
      "cell_type": "code",
      "execution_count": null,
      "metadata": {
        "id": "wt2ci6060gRA"
      },
      "outputs": [],
      "source": [
        "# Similarity between Sentence 1 and all\n",
        "\n",
        "cosine_similarity(x_test_similarity[0].reshape(1,-1), x_test_similarity)"
      ]
    },
    {
      "cell_type": "markdown",
      "metadata": {
        "id": "HN_bjHxu0pV2"
      },
      "source": [
        "# Simulating a chatbot"
      ]
    },
    {
      "cell_type": "code",
      "execution_count": 66,
      "metadata": {
        "id": "OtWhGUPn0oa6"
      },
      "outputs": [],
      "source": [
        "import random\n",
        "# ML lib\n",
        "from sklearn.feature_extraction.text import TfidfVectorizer\n",
        "\n",
        "\n",
        "welcome_words_inputs = (\"hello\",\"hi\",\"hey\")\n",
        "welcome_words_outputs = ('hey', 'hello', 'hi', 'how are you?', 'welcome', 'how are you doing?')\n",
        "\n",
        "class Chatbot() :\n",
        "\n",
        "  def __init__(self):\n",
        "    url = 'https://en.wikipedia.org/wiki/Natural_language_processing'\n",
        "    # get data from url\n",
        "    article = g.extract(url)\n",
        "\n",
        "    # use nltk to tokenize sentences in article\n",
        "    self.original_sentences: list = []\n",
        "\n",
        "    for sentence in nltk.sent_tokenize(article.cleaned_text):\n",
        "      self.original_sentences.append(sentence)\n",
        "\n",
        "  def preprocess(self, s: str) -> list:\n",
        "    s = s.lower()\n",
        "    s = s.replace('.', '')\n",
        "    s = s.replace('[', '')\n",
        "    s = s.replace(']', '')\n",
        "    tokens = []\n",
        "\n",
        "    # remove stop words, puntuations, space, numbers\n",
        "    for token in nlp(s):\n",
        "      if not (token.is_stop or token.like_num or token.is_punct or token.is_space or len(token) == 1):\n",
        "        tokens.append(token.text)\n",
        "\n",
        "    tokens = ' '.join([element for element in tokens])\n",
        "\n",
        "    return tokens\n",
        "\n",
        "\n",
        "  def welcom_message(self, text: str) -> str:\n",
        "    for word in text.split():\n",
        "      if word.lower() in welcome_words_inputs:\n",
        "        return random.choice(welcome_words_outputs)\n",
        "\n",
        "\n",
        "  def answer(self, question: str, threshold=0.3):\n",
        "    cleaned_sentences = []\n",
        "    # clean the wiki document sentences\n",
        "    for sentences in self.original_sentences:\n",
        "      cleaned_sentences.append(self.preprocess(sentences))\n",
        "\n",
        "    # print(cleaned_sentences)\n",
        "\n",
        "    chatbot_answer = ''\n",
        "    # clean user question\n",
        "    question = self.preprocess(question)\n",
        "\n",
        "    # append question to get it vectorized\n",
        "    cleaned_sentences.append(question)\n",
        "    # print(cleaned_sentences[-1])\n",
        "\n",
        "    # vectorize\n",
        "    tfidf = TfidfVectorizer()\n",
        "    x_sentences = tfidf.fit_transform(cleaned_sentences)\n",
        "    # print(x_sentences.toarray()[-1])\n",
        "\n",
        "    similarity = cosine_similarity(x_sentences[-1],x_sentences)\n",
        "    # print(similarity)\n",
        "\n",
        "    # get sentence with highest similarity\n",
        "    sentence_index = similarity.argsort()[0][-2]\n",
        "    # print(sentence_index)\n",
        "    # print(similarity[0][sentence_index])\n",
        "\n",
        "    if similarity[0][sentence_index] < threshold:\n",
        "      chatbot_answer += 'Sorry no answer was found!'\n",
        "    else:\n",
        "      chatbot_answer += original_sentences[sentence_index]\n",
        "\n",
        "    return chatbot_answer\n"
      ]
    },
    {
      "cell_type": "code",
      "execution_count": null,
      "metadata": {
        "id": "PR_iW82F4PxZ"
      },
      "outputs": [],
      "source": [
        "c = Chatbot()\n",
        "\n",
        "c.answer(\"what is natural language processing\")"
      ]
    },
    {
      "cell_type": "code",
      "execution_count": null,
      "metadata": {
        "id": "mz3xwppz7uHd"
      },
      "outputs": [],
      "source": [
        "c = Chatbot()\n",
        "\n",
        "c.answer(\"who is alan turing\")"
      ]
    },
    {
      "cell_type": "code",
      "execution_count": null,
      "metadata": {
        "id": "3_c7adMZ715Z"
      },
      "outputs": [],
      "source": [
        "c = Chatbot()\n",
        "\n",
        "c.answer(\"what is NLP\",0.1)"
      ]
    },
    {
      "cell_type": "code",
      "execution_count": null,
      "metadata": {
        "id": "Tvzkoohk8K9t"
      },
      "outputs": [],
      "source": [
        "c = Chatbot()\n",
        "cont = True\n",
        "print('Hello! I am a chatbot and I will answer your questions about natural language processing')\n",
        "\n",
        "while cont == True:\n",
        "  user_text = input()\n",
        "\n",
        "  if user_text != 'quit':\n",
        "    if c.welcom_message(user_text) != None:\n",
        "      print('Chatbot: ' + c.welcom_message(user_text))\n",
        "    else:\n",
        "      print('Chatbot:')\n",
        "      print(c.answer(user_text))\n",
        "  else:\n",
        "    cont = False\n",
        "    print('Chatbot: Bye! I will see you soon')\n",
        "\n"
      ]
    }
  ],
  "metadata": {
    "colab": {
      "provenance": [],
      "toc_visible": true
    },
    "kernelspec": {
      "display_name": "Python 3",
      "name": "python3"
    },
    "language_info": {
      "name": "python"
    }
  },
  "nbformat": 4,
  "nbformat_minor": 0
}
